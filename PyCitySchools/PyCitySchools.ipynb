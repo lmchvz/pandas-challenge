{
 "cells": [
  {
   "cell_type": "markdown",
   "metadata": {},
   "source": [
    "### District Summary\n",
    "\n",
    "* Create a high level snapshot (in table form) of the district's key metrics, including:\n",
    "  * Total Schools\n",
    "  * Total Students\n",
    "  * Total Budget\n",
    "  * Average Math Score\n",
    "  * Average Reading Score\n",
    "  * % Passing Math\n",
    "  * % Passing Reading\n",
    "  * Overall Passing Rate (Average of the above two)"
   ]
  },
  {
   "cell_type": "code",
   "execution_count": 1,
   "metadata": {},
   "outputs": [],
   "source": [
    "# import dependencies \n",
    "import pandas as pd"
   ]
  },
  {
   "cell_type": "code",
   "execution_count": 2,
   "metadata": {
    "scrolled": true
   },
   "outputs": [],
   "source": [
    "# create path for file to load\n",
    "schools_file = \"./Resources/schools_complete.csv\"\n",
    "students_file = \"./Resources/students_complete.csv\"\n",
    "\n",
    "# read csv and store in Pandas DataFrame \n",
    "schools_df = pd.read_csv(schools_file)\n",
    "students_df = pd.read_csv(students_file)"
   ]
  },
  {
   "cell_type": "code",
   "execution_count": 3,
   "metadata": {},
   "outputs": [
    {
     "data": {
      "text/html": [
       "<div>\n",
       "<style scoped>\n",
       "    .dataframe tbody tr th:only-of-type {\n",
       "        vertical-align: middle;\n",
       "    }\n",
       "\n",
       "    .dataframe tbody tr th {\n",
       "        vertical-align: top;\n",
       "    }\n",
       "\n",
       "    .dataframe thead th {\n",
       "        text-align: right;\n",
       "    }\n",
       "</style>\n",
       "<table border=\"1\" class=\"dataframe\">\n",
       "  <thead>\n",
       "    <tr style=\"text-align: right;\">\n",
       "      <th></th>\n",
       "      <th>School ID</th>\n",
       "      <th>school_name</th>\n",
       "      <th>type</th>\n",
       "      <th>size</th>\n",
       "      <th>budget</th>\n",
       "    </tr>\n",
       "  </thead>\n",
       "  <tbody>\n",
       "    <tr>\n",
       "      <th>0</th>\n",
       "      <td>0</td>\n",
       "      <td>Huang High School</td>\n",
       "      <td>District</td>\n",
       "      <td>2917</td>\n",
       "      <td>1910635</td>\n",
       "    </tr>\n",
       "    <tr>\n",
       "      <th>1</th>\n",
       "      <td>1</td>\n",
       "      <td>Figueroa High School</td>\n",
       "      <td>District</td>\n",
       "      <td>2949</td>\n",
       "      <td>1884411</td>\n",
       "    </tr>\n",
       "    <tr>\n",
       "      <th>2</th>\n",
       "      <td>2</td>\n",
       "      <td>Shelton High School</td>\n",
       "      <td>Charter</td>\n",
       "      <td>1761</td>\n",
       "      <td>1056600</td>\n",
       "    </tr>\n",
       "    <tr>\n",
       "      <th>3</th>\n",
       "      <td>3</td>\n",
       "      <td>Hernandez High School</td>\n",
       "      <td>District</td>\n",
       "      <td>4635</td>\n",
       "      <td>3022020</td>\n",
       "    </tr>\n",
       "    <tr>\n",
       "      <th>4</th>\n",
       "      <td>4</td>\n",
       "      <td>Griffin High School</td>\n",
       "      <td>Charter</td>\n",
       "      <td>1468</td>\n",
       "      <td>917500</td>\n",
       "    </tr>\n",
       "  </tbody>\n",
       "</table>\n",
       "</div>"
      ],
      "text/plain": [
       "   School ID            school_name      type  size   budget\n",
       "0          0      Huang High School  District  2917  1910635\n",
       "1          1   Figueroa High School  District  2949  1884411\n",
       "2          2    Shelton High School   Charter  1761  1056600\n",
       "3          3  Hernandez High School  District  4635  3022020\n",
       "4          4    Griffin High School   Charter  1468   917500"
      ]
     },
     "execution_count": 3,
     "metadata": {},
     "output_type": "execute_result"
    }
   ],
   "source": [
    "schools_df.head()"
   ]
  },
  {
   "cell_type": "code",
   "execution_count": 4,
   "metadata": {},
   "outputs": [
    {
     "data": {
      "text/html": [
       "<div>\n",
       "<style scoped>\n",
       "    .dataframe tbody tr th:only-of-type {\n",
       "        vertical-align: middle;\n",
       "    }\n",
       "\n",
       "    .dataframe tbody tr th {\n",
       "        vertical-align: top;\n",
       "    }\n",
       "\n",
       "    .dataframe thead th {\n",
       "        text-align: right;\n",
       "    }\n",
       "</style>\n",
       "<table border=\"1\" class=\"dataframe\">\n",
       "  <thead>\n",
       "    <tr style=\"text-align: right;\">\n",
       "      <th></th>\n",
       "      <th>Student ID</th>\n",
       "      <th>student_name</th>\n",
       "      <th>gender</th>\n",
       "      <th>grade</th>\n",
       "      <th>school_name</th>\n",
       "      <th>reading_score</th>\n",
       "      <th>math_score</th>\n",
       "    </tr>\n",
       "  </thead>\n",
       "  <tbody>\n",
       "    <tr>\n",
       "      <th>0</th>\n",
       "      <td>0</td>\n",
       "      <td>Paul Bradley</td>\n",
       "      <td>M</td>\n",
       "      <td>9th</td>\n",
       "      <td>Huang High School</td>\n",
       "      <td>66</td>\n",
       "      <td>79</td>\n",
       "    </tr>\n",
       "    <tr>\n",
       "      <th>1</th>\n",
       "      <td>1</td>\n",
       "      <td>Victor Smith</td>\n",
       "      <td>M</td>\n",
       "      <td>12th</td>\n",
       "      <td>Huang High School</td>\n",
       "      <td>94</td>\n",
       "      <td>61</td>\n",
       "    </tr>\n",
       "    <tr>\n",
       "      <th>2</th>\n",
       "      <td>2</td>\n",
       "      <td>Kevin Rodriguez</td>\n",
       "      <td>M</td>\n",
       "      <td>12th</td>\n",
       "      <td>Huang High School</td>\n",
       "      <td>90</td>\n",
       "      <td>60</td>\n",
       "    </tr>\n",
       "    <tr>\n",
       "      <th>3</th>\n",
       "      <td>3</td>\n",
       "      <td>Dr. Richard Scott</td>\n",
       "      <td>M</td>\n",
       "      <td>12th</td>\n",
       "      <td>Huang High School</td>\n",
       "      <td>67</td>\n",
       "      <td>58</td>\n",
       "    </tr>\n",
       "    <tr>\n",
       "      <th>4</th>\n",
       "      <td>4</td>\n",
       "      <td>Bonnie Ray</td>\n",
       "      <td>F</td>\n",
       "      <td>9th</td>\n",
       "      <td>Huang High School</td>\n",
       "      <td>97</td>\n",
       "      <td>84</td>\n",
       "    </tr>\n",
       "  </tbody>\n",
       "</table>\n",
       "</div>"
      ],
      "text/plain": [
       "   Student ID       student_name gender grade        school_name  \\\n",
       "0           0       Paul Bradley      M   9th  Huang High School   \n",
       "1           1       Victor Smith      M  12th  Huang High School   \n",
       "2           2    Kevin Rodriguez      M  12th  Huang High School   \n",
       "3           3  Dr. Richard Scott      M  12th  Huang High School   \n",
       "4           4         Bonnie Ray      F   9th  Huang High School   \n",
       "\n",
       "   reading_score  math_score  \n",
       "0             66          79  \n",
       "1             94          61  \n",
       "2             90          60  \n",
       "3             67          58  \n",
       "4             97          84  "
      ]
     },
     "execution_count": 4,
     "metadata": {},
     "output_type": "execute_result"
    }
   ],
   "source": [
    "students_df.head()"
   ]
  },
  {
   "cell_type": "code",
   "execution_count": 5,
   "metadata": {},
   "outputs": [
    {
     "data": {
      "text/plain": [
       "15"
      ]
     },
     "execution_count": 5,
     "metadata": {},
     "output_type": "execute_result"
    }
   ],
   "source": [
    "# Calculate the total of schools in the Schools DataFrame\n",
    "schools_total = len(schools_df[\"school_name\"].unique())\n",
    "schools_total"
   ]
  },
  {
   "cell_type": "code",
   "execution_count": 6,
   "metadata": {},
   "outputs": [
    {
     "data": {
      "text/plain": [
       "39170"
      ]
     },
     "execution_count": 6,
     "metadata": {},
     "output_type": "execute_result"
    }
   ],
   "source": [
    "# Calculate the total of students in the schools DataFrame \n",
    "students_total = len(students_df[\"Student ID\"].unique())\n",
    "students_total"
   ]
  },
  {
   "cell_type": "code",
   "execution_count": 7,
   "metadata": {},
   "outputs": [
    {
     "data": {
      "text/plain": [
       "24649428"
      ]
     },
     "execution_count": 7,
     "metadata": {},
     "output_type": "execute_result"
    }
   ],
   "source": [
    "# Calculate the Total Budget \n",
    "budget_total = schools_df[\"budget\"].sum()\n",
    "budget_total"
   ]
  },
  {
   "cell_type": "code",
   "execution_count": 8,
   "metadata": {},
   "outputs": [
    {
     "data": {
      "text/plain": [
       "79"
      ]
     },
     "execution_count": 8,
     "metadata": {},
     "output_type": "execute_result"
    }
   ],
   "source": [
    "# Calculate the Average Math Score \n",
    "avg_math_score = round(students_df[\"math_score\"].mean())\n",
    "avg_math_score"
   ]
  },
  {
   "cell_type": "code",
   "execution_count": 9,
   "metadata": {},
   "outputs": [
    {
     "data": {
      "text/plain": [
       "82"
      ]
     },
     "execution_count": 9,
     "metadata": {},
     "output_type": "execute_result"
    }
   ],
   "source": [
    "#Calculate the Average Math Score \n",
    "avg_reading_score = round(students_df[\"reading_score\"].mean())\n",
    "avg_reading_score"
   ]
  },
  {
   "cell_type": "code",
   "execution_count": 10,
   "metadata": {},
   "outputs": [
    {
     "data": {
      "text/plain": [
       "0.749808526933878"
      ]
     },
     "execution_count": 10,
     "metadata": {},
     "output_type": "execute_result"
    }
   ],
   "source": [
    "#Find total of Students Passing Math (>69)\n",
    "passing_math_ttl = students_df.loc[students_df[\"math_score\"]>69].count()[\"student_name\"]\n",
    "\n",
    "# Calculate % of Students Passing Math \n",
    "passing_math_pct = (passing_math_ttl/students_total)\n",
    "passing_math_pct"
   ]
  },
  {
   "cell_type": "code",
   "execution_count": 11,
   "metadata": {},
   "outputs": [
    {
     "data": {
      "text/plain": [
       "0.8580546336482001"
      ]
     },
     "execution_count": 11,
     "metadata": {},
     "output_type": "execute_result"
    }
   ],
   "source": [
    "#Find total of Students Passing Reading (>69)\n",
    "passing_reading_ttl = students_df.loc[students_df[\"reading_score\"]>69].count()[\"student_name\"]\n",
    "\n",
    "# Calculate % of Students Passing Reading \n",
    "passing_reading_pct =(passing_reading_ttl/students_total)\n",
    "passing_reading_pct"
   ]
  },
  {
   "cell_type": "code",
   "execution_count": 12,
   "metadata": {},
   "outputs": [
    {
     "data": {
      "text/plain": [
       "0.8039315802910391"
      ]
     },
     "execution_count": 12,
     "metadata": {},
     "output_type": "execute_result"
    }
   ],
   "source": [
    "# Calculate Overall Passing Rate (Average of the above two)\n",
    "overall_passing = (passing_math_pct + passing_reading_pct)/2\n",
    "overall_passing"
   ]
  },
  {
   "cell_type": "code",
   "execution_count": 13,
   "metadata": {},
   "outputs": [
    {
     "data": {
      "text/html": [
       "<style  type=\"text/css\" >\n",
       "</style><table id=\"T_8fc89328_dcb0_11e9_937a_38c986326522\" ><thead>    <tr>        <th class=\"blank level0\" ></th>        <th class=\"col_heading level0 col0\" >Total Schools</th>        <th class=\"col_heading level0 col1\" >Total Student</th>        <th class=\"col_heading level0 col2\" >Total Budget</th>        <th class=\"col_heading level0 col3\" >Average Math Score</th>        <th class=\"col_heading level0 col4\" >Average Reading Score</th>        <th class=\"col_heading level0 col5\" >% Passing Math</th>        <th class=\"col_heading level0 col6\" >% Passing Reading</th>        <th class=\"col_heading level0 col7\" >Overall Passing Rate</th>    </tr></thead><tbody>\n",
       "                <tr>\n",
       "                        <th id=\"T_8fc89328_dcb0_11e9_937a_38c986326522level0_row0\" class=\"row_heading level0 row0\" >0</th>\n",
       "                        <td id=\"T_8fc89328_dcb0_11e9_937a_38c986326522row0_col0\" class=\"data row0 col0\" >15</td>\n",
       "                        <td id=\"T_8fc89328_dcb0_11e9_937a_38c986326522row0_col1\" class=\"data row0 col1\" >39,170</td>\n",
       "                        <td id=\"T_8fc89328_dcb0_11e9_937a_38c986326522row0_col2\" class=\"data row0 col2\" >$24,649,428</td>\n",
       "                        <td id=\"T_8fc89328_dcb0_11e9_937a_38c986326522row0_col3\" class=\"data row0 col3\" >79</td>\n",
       "                        <td id=\"T_8fc89328_dcb0_11e9_937a_38c986326522row0_col4\" class=\"data row0 col4\" >82</td>\n",
       "                        <td id=\"T_8fc89328_dcb0_11e9_937a_38c986326522row0_col5\" class=\"data row0 col5\" >75%</td>\n",
       "                        <td id=\"T_8fc89328_dcb0_11e9_937a_38c986326522row0_col6\" class=\"data row0 col6\" >86%</td>\n",
       "                        <td id=\"T_8fc89328_dcb0_11e9_937a_38c986326522row0_col7\" class=\"data row0 col7\" >80%</td>\n",
       "            </tr>\n",
       "    </tbody></table>"
      ],
      "text/plain": [
       "<pandas.io.formats.style.Styler at 0x102e5cd50>"
      ]
     },
     "execution_count": 13,
     "metadata": {},
     "output_type": "execute_result"
    }
   ],
   "source": [
    "# Create District Summary DataFrame using calculation to create a table showing a \"high level snapshot\"\n",
    "district_summary = pd.DataFrame ({\"Total Schools\":[schools_total],\n",
    "                           \"Total Student\":[students_total],\n",
    "                           \"Total Budget\":[budget_total],\n",
    "                            \"Average Math Score\":[avg_math_score],\n",
    "                            \"Average Reading Score\":[avg_reading_score],\n",
    "                            \"% Passing Math\":[passing_math_pct],\n",
    "                            \"% Passing Reading\":[passing_reading_pct],\n",
    "                            \"Overall Passing Rate\":[overall_passing]})\n",
    "# Format Results in Table accordingly \n",
    "district_summary = district_summary.style.format({\n",
    "    'Total Student': '{:,.0f}'.format,\n",
    "    'Total Budget':'${:,.0f}'.format,\n",
    "    '% Passing Math': '{:,.0%}'.format,\n",
    "    '% Passing Reading': '{:,.0%}'.format,\n",
    "    'Overall Passing Rate': '{:,.0%}'.format})\n",
    "   \n",
    "district_summary"
   ]
  },
  {
   "cell_type": "markdown",
   "metadata": {},
   "source": [
    "### School Summary\n",
    "\n",
    "* Create an overview table that summarizes key metrics about each school, including:\n",
    "  * School Name\n",
    "  * School Type\n",
    "  * Total Students\n",
    "  * Total School Budget\n",
    "  * Per Student Budget\n",
    "  * Average Math Score\n",
    "  * Average Reading Score\n",
    "  * % Passing Math\n",
    "  * % Passing Reading\n",
    "  * Overall Passing Rate (Average of the above two)"
   ]
  },
  {
   "cell_type": "code",
   "execution_count": 14,
   "metadata": {},
   "outputs": [
    {
     "data": {
      "text/html": [
       "<div>\n",
       "<style scoped>\n",
       "    .dataframe tbody tr th:only-of-type {\n",
       "        vertical-align: middle;\n",
       "    }\n",
       "\n",
       "    .dataframe tbody tr th {\n",
       "        vertical-align: top;\n",
       "    }\n",
       "\n",
       "    .dataframe thead th {\n",
       "        text-align: right;\n",
       "    }\n",
       "</style>\n",
       "<table border=\"1\" class=\"dataframe\">\n",
       "  <thead>\n",
       "    <tr style=\"text-align: right;\">\n",
       "      <th></th>\n",
       "      <th>Student ID</th>\n",
       "      <th>student_name</th>\n",
       "      <th>gender</th>\n",
       "      <th>grade</th>\n",
       "      <th>school_name</th>\n",
       "      <th>reading_score</th>\n",
       "      <th>math_score</th>\n",
       "      <th>School ID</th>\n",
       "      <th>type</th>\n",
       "      <th>size</th>\n",
       "      <th>budget</th>\n",
       "    </tr>\n",
       "  </thead>\n",
       "  <tbody>\n",
       "    <tr>\n",
       "      <th>0</th>\n",
       "      <td>0</td>\n",
       "      <td>Paul Bradley</td>\n",
       "      <td>M</td>\n",
       "      <td>9th</td>\n",
       "      <td>Huang High School</td>\n",
       "      <td>66</td>\n",
       "      <td>79</td>\n",
       "      <td>0</td>\n",
       "      <td>District</td>\n",
       "      <td>2917</td>\n",
       "      <td>1910635</td>\n",
       "    </tr>\n",
       "    <tr>\n",
       "      <th>1</th>\n",
       "      <td>1</td>\n",
       "      <td>Victor Smith</td>\n",
       "      <td>M</td>\n",
       "      <td>12th</td>\n",
       "      <td>Huang High School</td>\n",
       "      <td>94</td>\n",
       "      <td>61</td>\n",
       "      <td>0</td>\n",
       "      <td>District</td>\n",
       "      <td>2917</td>\n",
       "      <td>1910635</td>\n",
       "    </tr>\n",
       "    <tr>\n",
       "      <th>2</th>\n",
       "      <td>2</td>\n",
       "      <td>Kevin Rodriguez</td>\n",
       "      <td>M</td>\n",
       "      <td>12th</td>\n",
       "      <td>Huang High School</td>\n",
       "      <td>90</td>\n",
       "      <td>60</td>\n",
       "      <td>0</td>\n",
       "      <td>District</td>\n",
       "      <td>2917</td>\n",
       "      <td>1910635</td>\n",
       "    </tr>\n",
       "    <tr>\n",
       "      <th>3</th>\n",
       "      <td>3</td>\n",
       "      <td>Dr. Richard Scott</td>\n",
       "      <td>M</td>\n",
       "      <td>12th</td>\n",
       "      <td>Huang High School</td>\n",
       "      <td>67</td>\n",
       "      <td>58</td>\n",
       "      <td>0</td>\n",
       "      <td>District</td>\n",
       "      <td>2917</td>\n",
       "      <td>1910635</td>\n",
       "    </tr>\n",
       "    <tr>\n",
       "      <th>4</th>\n",
       "      <td>4</td>\n",
       "      <td>Bonnie Ray</td>\n",
       "      <td>F</td>\n",
       "      <td>9th</td>\n",
       "      <td>Huang High School</td>\n",
       "      <td>97</td>\n",
       "      <td>84</td>\n",
       "      <td>0</td>\n",
       "      <td>District</td>\n",
       "      <td>2917</td>\n",
       "      <td>1910635</td>\n",
       "    </tr>\n",
       "  </tbody>\n",
       "</table>\n",
       "</div>"
      ],
      "text/plain": [
       "   Student ID       student_name gender grade        school_name  \\\n",
       "0           0       Paul Bradley      M   9th  Huang High School   \n",
       "1           1       Victor Smith      M  12th  Huang High School   \n",
       "2           2    Kevin Rodriguez      M  12th  Huang High School   \n",
       "3           3  Dr. Richard Scott      M  12th  Huang High School   \n",
       "4           4         Bonnie Ray      F   9th  Huang High School   \n",
       "\n",
       "   reading_score  math_score  School ID      type  size   budget  \n",
       "0             66          79          0  District  2917  1910635  \n",
       "1             94          61          0  District  2917  1910635  \n",
       "2             90          60          0  District  2917  1910635  \n",
       "3             67          58          0  District  2917  1910635  \n",
       "4             97          84          0  District  2917  1910635  "
      ]
     },
     "execution_count": 14,
     "metadata": {},
     "output_type": "execute_result"
    }
   ],
   "source": [
    "# Merge the two dataframes using full outer join\n",
    "merged_data = pd.merge(students_df, schools_df, how = \"left\" , on= [\"school_name\"])\n",
    "merged_data.head()"
   ]
  },
  {
   "cell_type": "code",
   "execution_count": 15,
   "metadata": {},
   "outputs": [
    {
     "data": {
      "text/plain": [
       "school_name\n",
       "Huang High School        District\n",
       "Figueroa High School     District\n",
       "Shelton High School       Charter\n",
       "Hernandez High School    District\n",
       "Griffin High School       Charter\n",
       "Wilson High School        Charter\n",
       "Cabrera High School       Charter\n",
       "Bailey High School       District\n",
       "Holden High School        Charter\n",
       "Pena High School          Charter\n",
       "Wright High School        Charter\n",
       "Rodriguez High School    District\n",
       "Johnson High School      District\n",
       "Ford High School         District\n",
       "Thomas High School        Charter\n",
       "Name: type, dtype: object"
      ]
     },
     "execution_count": 15,
     "metadata": {},
     "output_type": "execute_result"
    }
   ],
   "source": [
    "# Find Type using set_index\n",
    "school_types = schools_df.set_index([\"school_name\"])[\"type\"]\n",
    "school_types"
   ]
  },
  {
   "cell_type": "code",
   "execution_count": 16,
   "metadata": {},
   "outputs": [
    {
     "data": {
      "text/plain": [
       "Bailey High School       4,976\n",
       "Johnson High School      4,761\n",
       "Hernandez High School    4,635\n",
       "Rodriguez High School    3,999\n",
       "Figueroa High School     2,949\n",
       "Huang High School        2,917\n",
       "Ford High School         2,739\n",
       "Wilson High School       2,283\n",
       "Cabrera High School      1,858\n",
       "Wright High School       1,800\n",
       "Shelton High School      1,761\n",
       "Thomas High School       1,635\n",
       "Griffin High School      1,468\n",
       "Pena High School           962\n",
       "Holden High School         427\n",
       "Name: school_name, dtype: object"
      ]
     },
     "execution_count": 16,
     "metadata": {},
     "output_type": "execute_result"
    }
   ],
   "source": [
    "# Find Total Of Students per School using merged data value_counts\n",
    "students_per_sch = (merged_data[\"school_name\"].value_counts()).map(\"{:,.0f}\".format)\n",
    "students_per_sch"
   ]
  },
  {
   "cell_type": "code",
   "execution_count": 17,
   "metadata": {},
   "outputs": [
    {
     "data": {
      "text/plain": [
       "school_name\n",
       "Bailey High School       $3,124,928\n",
       "Cabrera High School      $1,081,356\n",
       "Figueroa High School     $1,884,411\n",
       "Ford High School         $1,763,916\n",
       "Griffin High School        $917,500\n",
       "Hernandez High School    $3,022,020\n",
       "Holden High School         $248,087\n",
       "Huang High School        $1,910,635\n",
       "Johnson High School      $3,094,650\n",
       "Pena High School           $585,858\n",
       "Rodriguez High School    $2,547,363\n",
       "Shelton High School      $1,056,600\n",
       "Thomas High School       $1,043,130\n",
       "Wilson High School       $1,319,574\n",
       "Wright High School       $1,049,400\n",
       "Name: budget, dtype: object"
      ]
     },
     "execution_count": 17,
     "metadata": {},
     "output_type": "execute_result"
    }
   ],
   "source": [
    "# Find Budget using groupby mean of budget column\n",
    "school_budget = merged_data.groupby([\"school_name\"]).mean()[\"budget\"].map(\"${:,.0f}\".format)\n",
    "school_budget"
   ]
  },
  {
   "cell_type": "code",
   "execution_count": 18,
   "metadata": {
    "scrolled": true
   },
   "outputs": [
    {
     "data": {
      "text/plain": [
       "Bailey High School       $628\n",
       "Cabrera High School      $582\n",
       "Figueroa High School     $639\n",
       "Ford High School         $644\n",
       "Griffin High School      $625\n",
       "Hernandez High School    $652\n",
       "Holden High School       $581\n",
       "Huang High School        $655\n",
       "Johnson High School      $650\n",
       "Pena High School         $609\n",
       "Rodriguez High School    $637\n",
       "Shelton High School      $600\n",
       "Thomas High School       $638\n",
       "Wilson High School       $578\n",
       "Wright High School       $583\n",
       "dtype: object"
      ]
     },
     "execution_count": 18,
     "metadata": {},
     "output_type": "execute_result"
    }
   ],
   "source": [
    "# Find Budget_Per_Student using school budget divided by # students per school \n",
    "student_budget = ((merged_data.groupby([\"school_name\"]).mean()[\"budget\"]) \n",
    "                /(merged_data[\"school_name\"].value_counts())).map(\"${:,.0f}\".format)\n",
    "school_budget\n",
    "student_budget"
   ]
  },
  {
   "cell_type": "code",
   "execution_count": 30,
   "metadata": {},
   "outputs": [
    {
     "data": {
      "text/plain": [
       "school_name\n",
       "Bailey High School       77\n",
       "Cabrera High School      83\n",
       "Figueroa High School     77\n",
       "Ford High School         77\n",
       "Griffin High School      83\n",
       "Hernandez High School    77\n",
       "Holden High School       84\n",
       "Huang High School        77\n",
       "Johnson High School      77\n",
       "Pena High School         84\n",
       "Rodriguez High School    77\n",
       "Shelton High School      83\n",
       "Thomas High School       83\n",
       "Wilson High School       83\n",
       "Wright High School       84\n",
       "Name: math_score, dtype: object"
      ]
     },
     "execution_count": 30,
     "metadata": {},
     "output_type": "execute_result"
    }
   ],
   "source": [
    "# Find the Average Math Score for each school using groupby mean of math score column\n",
    "avg_math = merged_data.groupby([\"school_name\"]).mean()[\"math_score\"].map(\"{:,.0f}\".format)\n",
    "avg_math "
   ]
  },
  {
   "cell_type": "code",
   "execution_count": 31,
   "metadata": {},
   "outputs": [
    {
     "data": {
      "text/plain": [
       "school_name\n",
       "Bailey High School       81\n",
       "Cabrera High School      84\n",
       "Figueroa High School     81\n",
       "Ford High School         81\n",
       "Griffin High School      84\n",
       "Hernandez High School    81\n",
       "Holden High School       84\n",
       "Huang High School        81\n",
       "Johnson High School      81\n",
       "Pena High School         84\n",
       "Rodriguez High School    81\n",
       "Shelton High School      84\n",
       "Thomas High School       84\n",
       "Wilson High School       84\n",
       "Wright High School       84\n",
       "Name: reading_score, dtype: object"
      ]
     },
     "execution_count": 31,
     "metadata": {},
     "output_type": "execute_result"
    }
   ],
   "source": [
    "# Find the Average Reading Score for each school using groupby mean of reading score column\n",
    "#avg_read = school_groupby[\"reading_score\"].mean()\n",
    "avg_read = merged_data.groupby([\"school_name\"]).mean()[\"reading_score\"].map(\"{:,.0f}\".format)\n",
    "avg_read"
   ]
  },
  {
   "cell_type": "code",
   "execution_count": 48,
   "metadata": {},
   "outputs": [
    {
     "data": {
      "text/plain": [
       "Bailey High School       67%\n",
       "Cabrera High School      94%\n",
       "Figueroa High School     66%\n",
       "Ford High School         68%\n",
       "Griffin High School      93%\n",
       "Hernandez High School    67%\n",
       "Holden High School       93%\n",
       "Huang High School        66%\n",
       "Johnson High School      66%\n",
       "Pena High School         95%\n",
       "Rodriguez High School    66%\n",
       "Shelton High School      94%\n",
       "Thomas High School       93%\n",
       "Wilson High School       94%\n",
       "Wright High School       93%\n",
       "dtype: object"
      ]
     },
     "execution_count": 48,
     "metadata": {},
     "output_type": "execute_result"
    }
   ],
   "source": [
    "#Find total of Students Passing Math (>69)\n",
    "passing_math = (merged_data[merged_data[\"math_score\"]>69].groupby('school_name')['Student ID'].count()\n",
    "              / (merged_data[\"school_name\"].value_counts())).map(\"{:,.0%}\".format)\n",
    "# Took format off for overall passing calculation\n",
    "math_unformatted = (merged_data[merged_data[\"math_score\"]>69].groupby('school_name')['Student ID'].count()\n",
    "              / (merged_data[\"school_name\"].value_counts()))\n",
    "passing_math"
   ]
  },
  {
   "cell_type": "code",
   "execution_count": 41,
   "metadata": {},
   "outputs": [
    {
     "data": {
      "text/plain": [
       "Bailey High School       82%\n",
       "Cabrera High School      97%\n",
       "Figueroa High School     81%\n",
       "Ford High School         79%\n",
       "Griffin High School      97%\n",
       "Hernandez High School    81%\n",
       "Holden High School       96%\n",
       "Huang High School        81%\n",
       "Johnson High School      81%\n",
       "Pena High School         96%\n",
       "Rodriguez High School    80%\n",
       "Shelton High School      96%\n",
       "Thomas High School       97%\n",
       "Wilson High School       97%\n",
       "Wright High School       97%\n",
       "dtype: object"
      ]
     },
     "execution_count": 41,
     "metadata": {},
     "output_type": "execute_result"
    }
   ],
   "source": [
    "#Find total of Students Passing Reading (>69)\n",
    "passing_read = (merged_data[merged_data[\"reading_score\"]>69].groupby('school_name')['Student ID'].count()\n",
    "              / (merged_data[\"school_name\"].value_counts())).map(\"{:,.0%}\".format)\n",
    "# Took format off for overall passing calculation\n",
    "read_unformatted = (merged_data[merged_data[\"reading_score\"]>69].groupby('school_name')['Student ID'].count()\n",
    "              / (merged_data[\"school_name\"].value_counts()))\n",
    "passing_read"
   ]
  },
  {
   "cell_type": "code",
   "execution_count": 53,
   "metadata": {},
   "outputs": [
    {
     "data": {
      "text/plain": [
       "Bailey High School       74.31%\n",
       "Cabrera High School      95.59%\n",
       "Figueroa High School     73.36%\n",
       "Ford High School         73.80%\n",
       "Griffin High School      95.27%\n",
       "Hernandez High School    73.81%\n",
       "Holden High School       94.38%\n",
       "Huang High School        73.50%\n",
       "Johnson High School      73.64%\n",
       "Pena High School         95.27%\n",
       "Rodriguez High School    73.29%\n",
       "Shelton High School      94.86%\n",
       "Thomas High School       95.29%\n",
       "Wilson High School       95.20%\n",
       "Wright High School       94.97%\n",
       "dtype: object"
      ]
     },
     "execution_count": 53,
     "metadata": {},
     "output_type": "execute_result"
    }
   ],
   "source": [
    "# Calculate Overall Passing Rate (Average of the above two)\n",
    "\n",
    "#overall_pass = (merged_data[merged_data[\"math_score\"]>69].groupby('school_name')['Student ID'].count()/(merged_data[\"school_name\"].value_counts()))+(merged_data[merged_data[\"reading_score\"]>69].groupby('school_name')['Student ID'].count()/(merged_data[\"school_name\"].value_counts())).map(\"{:,.0%}\".format)\n",
    "overall_pass = ((math_unformatted + read_unformatted) / 2).map(\"{:,.2%}\".format)               \n",
    "overall_pass"
   ]
  },
  {
   "cell_type": "code",
   "execution_count": 54,
   "metadata": {},
   "outputs": [
    {
     "data": {
      "text/html": [
       "<div>\n",
       "<style scoped>\n",
       "    .dataframe tbody tr th:only-of-type {\n",
       "        vertical-align: middle;\n",
       "    }\n",
       "\n",
       "    .dataframe tbody tr th {\n",
       "        vertical-align: top;\n",
       "    }\n",
       "\n",
       "    .dataframe thead th {\n",
       "        text-align: right;\n",
       "    }\n",
       "</style>\n",
       "<table border=\"1\" class=\"dataframe\">\n",
       "  <thead>\n",
       "    <tr style=\"text-align: right;\">\n",
       "      <th></th>\n",
       "      <th>School Type</th>\n",
       "      <th>Total Students</th>\n",
       "      <th>School Budget</th>\n",
       "      <th>Per Student Budget</th>\n",
       "      <th>Avg Math Score</th>\n",
       "      <th>Avg Reading Score</th>\n",
       "      <th>% Passing Math</th>\n",
       "      <th>% Passing Reading</th>\n",
       "      <th>Overall Passing</th>\n",
       "    </tr>\n",
       "  </thead>\n",
       "  <tbody>\n",
       "    <tr>\n",
       "      <th>Bailey High School</th>\n",
       "      <td>District</td>\n",
       "      <td>4,976</td>\n",
       "      <td>$3,124,928</td>\n",
       "      <td>$628</td>\n",
       "      <td>77</td>\n",
       "      <td>81</td>\n",
       "      <td>67%</td>\n",
       "      <td>82%</td>\n",
       "      <td>74.31%</td>\n",
       "    </tr>\n",
       "    <tr>\n",
       "      <th>Cabrera High School</th>\n",
       "      <td>Charter</td>\n",
       "      <td>1,858</td>\n",
       "      <td>$1,081,356</td>\n",
       "      <td>$582</td>\n",
       "      <td>83</td>\n",
       "      <td>84</td>\n",
       "      <td>94%</td>\n",
       "      <td>97%</td>\n",
       "      <td>95.59%</td>\n",
       "    </tr>\n",
       "    <tr>\n",
       "      <th>Figueroa High School</th>\n",
       "      <td>District</td>\n",
       "      <td>2,949</td>\n",
       "      <td>$1,884,411</td>\n",
       "      <td>$639</td>\n",
       "      <td>77</td>\n",
       "      <td>81</td>\n",
       "      <td>66%</td>\n",
       "      <td>81%</td>\n",
       "      <td>73.36%</td>\n",
       "    </tr>\n",
       "    <tr>\n",
       "      <th>Ford High School</th>\n",
       "      <td>District</td>\n",
       "      <td>2,739</td>\n",
       "      <td>$1,763,916</td>\n",
       "      <td>$644</td>\n",
       "      <td>77</td>\n",
       "      <td>81</td>\n",
       "      <td>68%</td>\n",
       "      <td>79%</td>\n",
       "      <td>73.80%</td>\n",
       "    </tr>\n",
       "    <tr>\n",
       "      <th>Griffin High School</th>\n",
       "      <td>Charter</td>\n",
       "      <td>1,468</td>\n",
       "      <td>$917,500</td>\n",
       "      <td>$625</td>\n",
       "      <td>83</td>\n",
       "      <td>84</td>\n",
       "      <td>93%</td>\n",
       "      <td>97%</td>\n",
       "      <td>95.27%</td>\n",
       "    </tr>\n",
       "    <tr>\n",
       "      <th>Hernandez High School</th>\n",
       "      <td>District</td>\n",
       "      <td>4,635</td>\n",
       "      <td>$3,022,020</td>\n",
       "      <td>$652</td>\n",
       "      <td>77</td>\n",
       "      <td>81</td>\n",
       "      <td>67%</td>\n",
       "      <td>81%</td>\n",
       "      <td>73.81%</td>\n",
       "    </tr>\n",
       "    <tr>\n",
       "      <th>Holden High School</th>\n",
       "      <td>Charter</td>\n",
       "      <td>427</td>\n",
       "      <td>$248,087</td>\n",
       "      <td>$581</td>\n",
       "      <td>84</td>\n",
       "      <td>84</td>\n",
       "      <td>93%</td>\n",
       "      <td>96%</td>\n",
       "      <td>94.38%</td>\n",
       "    </tr>\n",
       "    <tr>\n",
       "      <th>Huang High School</th>\n",
       "      <td>District</td>\n",
       "      <td>2,917</td>\n",
       "      <td>$1,910,635</td>\n",
       "      <td>$655</td>\n",
       "      <td>77</td>\n",
       "      <td>81</td>\n",
       "      <td>66%</td>\n",
       "      <td>81%</td>\n",
       "      <td>73.50%</td>\n",
       "    </tr>\n",
       "    <tr>\n",
       "      <th>Johnson High School</th>\n",
       "      <td>District</td>\n",
       "      <td>4,761</td>\n",
       "      <td>$3,094,650</td>\n",
       "      <td>$650</td>\n",
       "      <td>77</td>\n",
       "      <td>81</td>\n",
       "      <td>66%</td>\n",
       "      <td>81%</td>\n",
       "      <td>73.64%</td>\n",
       "    </tr>\n",
       "    <tr>\n",
       "      <th>Pena High School</th>\n",
       "      <td>Charter</td>\n",
       "      <td>962</td>\n",
       "      <td>$585,858</td>\n",
       "      <td>$609</td>\n",
       "      <td>84</td>\n",
       "      <td>84</td>\n",
       "      <td>95%</td>\n",
       "      <td>96%</td>\n",
       "      <td>95.27%</td>\n",
       "    </tr>\n",
       "    <tr>\n",
       "      <th>Rodriguez High School</th>\n",
       "      <td>District</td>\n",
       "      <td>3,999</td>\n",
       "      <td>$2,547,363</td>\n",
       "      <td>$637</td>\n",
       "      <td>77</td>\n",
       "      <td>81</td>\n",
       "      <td>66%</td>\n",
       "      <td>80%</td>\n",
       "      <td>73.29%</td>\n",
       "    </tr>\n",
       "    <tr>\n",
       "      <th>Shelton High School</th>\n",
       "      <td>Charter</td>\n",
       "      <td>1,761</td>\n",
       "      <td>$1,056,600</td>\n",
       "      <td>$600</td>\n",
       "      <td>83</td>\n",
       "      <td>84</td>\n",
       "      <td>94%</td>\n",
       "      <td>96%</td>\n",
       "      <td>94.86%</td>\n",
       "    </tr>\n",
       "    <tr>\n",
       "      <th>Thomas High School</th>\n",
       "      <td>Charter</td>\n",
       "      <td>1,635</td>\n",
       "      <td>$1,043,130</td>\n",
       "      <td>$638</td>\n",
       "      <td>83</td>\n",
       "      <td>84</td>\n",
       "      <td>93%</td>\n",
       "      <td>97%</td>\n",
       "      <td>95.29%</td>\n",
       "    </tr>\n",
       "    <tr>\n",
       "      <th>Wilson High School</th>\n",
       "      <td>Charter</td>\n",
       "      <td>2,283</td>\n",
       "      <td>$1,319,574</td>\n",
       "      <td>$578</td>\n",
       "      <td>83</td>\n",
       "      <td>84</td>\n",
       "      <td>94%</td>\n",
       "      <td>97%</td>\n",
       "      <td>95.20%</td>\n",
       "    </tr>\n",
       "    <tr>\n",
       "      <th>Wright High School</th>\n",
       "      <td>Charter</td>\n",
       "      <td>1,800</td>\n",
       "      <td>$1,049,400</td>\n",
       "      <td>$583</td>\n",
       "      <td>84</td>\n",
       "      <td>84</td>\n",
       "      <td>93%</td>\n",
       "      <td>97%</td>\n",
       "      <td>94.97%</td>\n",
       "    </tr>\n",
       "  </tbody>\n",
       "</table>\n",
       "</div>"
      ],
      "text/plain": [
       "                      School Type Total Students School Budget  \\\n",
       "Bailey High School       District          4,976    $3,124,928   \n",
       "Cabrera High School       Charter          1,858    $1,081,356   \n",
       "Figueroa High School     District          2,949    $1,884,411   \n",
       "Ford High School         District          2,739    $1,763,916   \n",
       "Griffin High School       Charter          1,468      $917,500   \n",
       "Hernandez High School    District          4,635    $3,022,020   \n",
       "Holden High School        Charter            427      $248,087   \n",
       "Huang High School        District          2,917    $1,910,635   \n",
       "Johnson High School      District          4,761    $3,094,650   \n",
       "Pena High School          Charter            962      $585,858   \n",
       "Rodriguez High School    District          3,999    $2,547,363   \n",
       "Shelton High School       Charter          1,761    $1,056,600   \n",
       "Thomas High School        Charter          1,635    $1,043,130   \n",
       "Wilson High School        Charter          2,283    $1,319,574   \n",
       "Wright High School        Charter          1,800    $1,049,400   \n",
       "\n",
       "                      Per Student Budget Avg Math Score Avg Reading Score  \\\n",
       "Bailey High School                  $628             77                81   \n",
       "Cabrera High School                 $582             83                84   \n",
       "Figueroa High School                $639             77                81   \n",
       "Ford High School                    $644             77                81   \n",
       "Griffin High School                 $625             83                84   \n",
       "Hernandez High School               $652             77                81   \n",
       "Holden High School                  $581             84                84   \n",
       "Huang High School                   $655             77                81   \n",
       "Johnson High School                 $650             77                81   \n",
       "Pena High School                    $609             84                84   \n",
       "Rodriguez High School               $637             77                81   \n",
       "Shelton High School                 $600             83                84   \n",
       "Thomas High School                  $638             83                84   \n",
       "Wilson High School                  $578             83                84   \n",
       "Wright High School                  $583             84                84   \n",
       "\n",
       "                      % Passing Math % Passing Reading Overall Passing  \n",
       "Bailey High School               67%               82%          74.31%  \n",
       "Cabrera High School              94%               97%          95.59%  \n",
       "Figueroa High School             66%               81%          73.36%  \n",
       "Ford High School                 68%               79%          73.80%  \n",
       "Griffin High School              93%               97%          95.27%  \n",
       "Hernandez High School            67%               81%          73.81%  \n",
       "Holden High School               93%               96%          94.38%  \n",
       "Huang High School                66%               81%          73.50%  \n",
       "Johnson High School              66%               81%          73.64%  \n",
       "Pena High School                 95%               96%          95.27%  \n",
       "Rodriguez High School            66%               80%          73.29%  \n",
       "Shelton High School              94%               96%          94.86%  \n",
       "Thomas High School               93%               97%          95.29%  \n",
       "Wilson High School               94%               97%          95.20%  \n",
       "Wright High School               93%               97%          94.97%  "
      ]
     },
     "execution_count": 54,
     "metadata": {},
     "output_type": "execute_result"
    }
   ],
   "source": [
    "# Create School Summary DataFrame using above calculations to create an overview table \n",
    "school_summary = pd.DataFrame({\"School Type\": school_types,\n",
    "                                   \"Total Students\": students_per_sch,\n",
    "                                   \"School Budget\": school_budget,\n",
    "                                   \"Per Student Budget\" :student_budget,\n",
    "                                   \"Avg Math Score\": avg_math,\n",
    "                                   \"Avg Reading Score\": avg_read,\n",
    "                                   \"% Passing Math\": passing_math,\n",
    "                                   \"% Passing Reading\": passing_read,\n",
    "                                   \"Overall Passing\": overall_pass})  \n",
    "school_summary"
   ]
  },
  {
   "cell_type": "markdown",
   "metadata": {},
   "source": [
    "### Top Performing Schools (By Passing Rate)\n",
    "\n",
    "* Create a table that highlights the top 5 performing schools based on Overall Passing Rate. Include:\n",
    "  * School Name\n",
    "  * School Type\n",
    "  * Total Students\n",
    "  * Total School Budget\n",
    "  * Per Student Budget\n",
    "  * Average Math Score\n",
    "  * Average Reading Score\n",
    "  * % Passing Math\n",
    "  * % Passing Reading\n",
    "  * Overall Passing Rate (Average of the above two)"
   ]
  },
  {
   "cell_type": "code",
   "execution_count": 55,
   "metadata": {
    "scrolled": true
   },
   "outputs": [
    {
     "data": {
      "text/html": [
       "<div>\n",
       "<style scoped>\n",
       "    .dataframe tbody tr th:only-of-type {\n",
       "        vertical-align: middle;\n",
       "    }\n",
       "\n",
       "    .dataframe tbody tr th {\n",
       "        vertical-align: top;\n",
       "    }\n",
       "\n",
       "    .dataframe thead th {\n",
       "        text-align: right;\n",
       "    }\n",
       "</style>\n",
       "<table border=\"1\" class=\"dataframe\">\n",
       "  <thead>\n",
       "    <tr style=\"text-align: right;\">\n",
       "      <th></th>\n",
       "      <th>School Type</th>\n",
       "      <th>Total Students</th>\n",
       "      <th>School Budget</th>\n",
       "      <th>Per Student Budget</th>\n",
       "      <th>Avg Math Score</th>\n",
       "      <th>Avg Reading Score</th>\n",
       "      <th>% Passing Math</th>\n",
       "      <th>% Passing Reading</th>\n",
       "      <th>Overall Passing</th>\n",
       "    </tr>\n",
       "  </thead>\n",
       "  <tbody>\n",
       "    <tr>\n",
       "      <th>Cabrera High School</th>\n",
       "      <td>Charter</td>\n",
       "      <td>1,858</td>\n",
       "      <td>$1,081,356</td>\n",
       "      <td>$582</td>\n",
       "      <td>83</td>\n",
       "      <td>84</td>\n",
       "      <td>94%</td>\n",
       "      <td>97%</td>\n",
       "      <td>95.59%</td>\n",
       "    </tr>\n",
       "    <tr>\n",
       "      <th>Thomas High School</th>\n",
       "      <td>Charter</td>\n",
       "      <td>1,635</td>\n",
       "      <td>$1,043,130</td>\n",
       "      <td>$638</td>\n",
       "      <td>83</td>\n",
       "      <td>84</td>\n",
       "      <td>93%</td>\n",
       "      <td>97%</td>\n",
       "      <td>95.29%</td>\n",
       "    </tr>\n",
       "    <tr>\n",
       "      <th>Griffin High School</th>\n",
       "      <td>Charter</td>\n",
       "      <td>1,468</td>\n",
       "      <td>$917,500</td>\n",
       "      <td>$625</td>\n",
       "      <td>83</td>\n",
       "      <td>84</td>\n",
       "      <td>93%</td>\n",
       "      <td>97%</td>\n",
       "      <td>95.27%</td>\n",
       "    </tr>\n",
       "    <tr>\n",
       "      <th>Pena High School</th>\n",
       "      <td>Charter</td>\n",
       "      <td>962</td>\n",
       "      <td>$585,858</td>\n",
       "      <td>$609</td>\n",
       "      <td>84</td>\n",
       "      <td>84</td>\n",
       "      <td>95%</td>\n",
       "      <td>96%</td>\n",
       "      <td>95.27%</td>\n",
       "    </tr>\n",
       "    <tr>\n",
       "      <th>Wilson High School</th>\n",
       "      <td>Charter</td>\n",
       "      <td>2,283</td>\n",
       "      <td>$1,319,574</td>\n",
       "      <td>$578</td>\n",
       "      <td>83</td>\n",
       "      <td>84</td>\n",
       "      <td>94%</td>\n",
       "      <td>97%</td>\n",
       "      <td>95.20%</td>\n",
       "    </tr>\n",
       "  </tbody>\n",
       "</table>\n",
       "</div>"
      ],
      "text/plain": [
       "                    School Type Total Students School Budget  \\\n",
       "Cabrera High School     Charter          1,858    $1,081,356   \n",
       "Thomas High School      Charter          1,635    $1,043,130   \n",
       "Griffin High School     Charter          1,468      $917,500   \n",
       "Pena High School        Charter            962      $585,858   \n",
       "Wilson High School      Charter          2,283    $1,319,574   \n",
       "\n",
       "                    Per Student Budget Avg Math Score Avg Reading Score  \\\n",
       "Cabrera High School               $582             83                84   \n",
       "Thomas High School                $638             83                84   \n",
       "Griffin High School               $625             83                84   \n",
       "Pena High School                  $609             84                84   \n",
       "Wilson High School                $578             83                84   \n",
       "\n",
       "                    % Passing Math % Passing Reading Overall Passing  \n",
       "Cabrera High School            94%               97%          95.59%  \n",
       "Thomas High School             93%               97%          95.29%  \n",
       "Griffin High School            93%               97%          95.27%  \n",
       "Pena High School               95%               96%          95.27%  \n",
       "Wilson High School             94%               97%          95.20%  "
      ]
     },
     "execution_count": 55,
     "metadata": {},
     "output_type": "execute_result"
    }
   ],
   "source": [
    "# Sort Overall Passing Column values in descending order \n",
    "top_five = school_summary.sort_values(\"Overall Passing\", ascending = False)\n",
    "top_five.head(5)"
   ]
  },
  {
   "cell_type": "markdown",
   "metadata": {},
   "source": [
    "### Bottom Performing Schools (By Passing Rate)\n",
    "\n",
    "* Create a table that highlights the bottom 5 performing schools based on Overall Passing Rate. Include all of the same metrics as above.\n"
   ]
  },
  {
   "cell_type": "code",
   "execution_count": 56,
   "metadata": {},
   "outputs": [
    {
     "data": {
      "text/html": [
       "<div>\n",
       "<style scoped>\n",
       "    .dataframe tbody tr th:only-of-type {\n",
       "        vertical-align: middle;\n",
       "    }\n",
       "\n",
       "    .dataframe tbody tr th {\n",
       "        vertical-align: top;\n",
       "    }\n",
       "\n",
       "    .dataframe thead th {\n",
       "        text-align: right;\n",
       "    }\n",
       "</style>\n",
       "<table border=\"1\" class=\"dataframe\">\n",
       "  <thead>\n",
       "    <tr style=\"text-align: right;\">\n",
       "      <th></th>\n",
       "      <th>School Type</th>\n",
       "      <th>Total Students</th>\n",
       "      <th>School Budget</th>\n",
       "      <th>Per Student Budget</th>\n",
       "      <th>Avg Math Score</th>\n",
       "      <th>Avg Reading Score</th>\n",
       "      <th>% Passing Math</th>\n",
       "      <th>% Passing Reading</th>\n",
       "      <th>Overall Passing</th>\n",
       "    </tr>\n",
       "  </thead>\n",
       "  <tbody>\n",
       "    <tr>\n",
       "      <th>Rodriguez High School</th>\n",
       "      <td>District</td>\n",
       "      <td>3,999</td>\n",
       "      <td>$2,547,363</td>\n",
       "      <td>$637</td>\n",
       "      <td>77</td>\n",
       "      <td>81</td>\n",
       "      <td>66%</td>\n",
       "      <td>80%</td>\n",
       "      <td>73.29%</td>\n",
       "    </tr>\n",
       "    <tr>\n",
       "      <th>Figueroa High School</th>\n",
       "      <td>District</td>\n",
       "      <td>2,949</td>\n",
       "      <td>$1,884,411</td>\n",
       "      <td>$639</td>\n",
       "      <td>77</td>\n",
       "      <td>81</td>\n",
       "      <td>66%</td>\n",
       "      <td>81%</td>\n",
       "      <td>73.36%</td>\n",
       "    </tr>\n",
       "    <tr>\n",
       "      <th>Huang High School</th>\n",
       "      <td>District</td>\n",
       "      <td>2,917</td>\n",
       "      <td>$1,910,635</td>\n",
       "      <td>$655</td>\n",
       "      <td>77</td>\n",
       "      <td>81</td>\n",
       "      <td>66%</td>\n",
       "      <td>81%</td>\n",
       "      <td>73.50%</td>\n",
       "    </tr>\n",
       "    <tr>\n",
       "      <th>Johnson High School</th>\n",
       "      <td>District</td>\n",
       "      <td>4,761</td>\n",
       "      <td>$3,094,650</td>\n",
       "      <td>$650</td>\n",
       "      <td>77</td>\n",
       "      <td>81</td>\n",
       "      <td>66%</td>\n",
       "      <td>81%</td>\n",
       "      <td>73.64%</td>\n",
       "    </tr>\n",
       "    <tr>\n",
       "      <th>Ford High School</th>\n",
       "      <td>District</td>\n",
       "      <td>2,739</td>\n",
       "      <td>$1,763,916</td>\n",
       "      <td>$644</td>\n",
       "      <td>77</td>\n",
       "      <td>81</td>\n",
       "      <td>68%</td>\n",
       "      <td>79%</td>\n",
       "      <td>73.80%</td>\n",
       "    </tr>\n",
       "  </tbody>\n",
       "</table>\n",
       "</div>"
      ],
      "text/plain": [
       "                      School Type Total Students School Budget  \\\n",
       "Rodriguez High School    District          3,999    $2,547,363   \n",
       "Figueroa High School     District          2,949    $1,884,411   \n",
       "Huang High School        District          2,917    $1,910,635   \n",
       "Johnson High School      District          4,761    $3,094,650   \n",
       "Ford High School         District          2,739    $1,763,916   \n",
       "\n",
       "                      Per Student Budget Avg Math Score Avg Reading Score  \\\n",
       "Rodriguez High School               $637             77                81   \n",
       "Figueroa High School                $639             77                81   \n",
       "Huang High School                   $655             77                81   \n",
       "Johnson High School                 $650             77                81   \n",
       "Ford High School                    $644             77                81   \n",
       "\n",
       "                      % Passing Math % Passing Reading Overall Passing  \n",
       "Rodriguez High School            66%               80%          73.29%  \n",
       "Figueroa High School             66%               81%          73.36%  \n",
       "Huang High School                66%               81%          73.50%  \n",
       "Johnson High School              66%               81%          73.64%  \n",
       "Ford High School                 68%               79%          73.80%  "
      ]
     },
     "execution_count": 56,
     "metadata": {},
     "output_type": "execute_result"
    }
   ],
   "source": [
    "# Sort Overall Passing Column values in ascending order \n",
    "top_five = school_summary.sort_values(\"Overall Passing\", ascending = True)\n",
    "top_five.head(5)"
   ]
  },
  {
   "cell_type": "markdown",
   "metadata": {},
   "source": [
    "### Math Scores by Grade\n",
    "\n",
    "* Create a table that lists the average Math Score for students of each grade level (9th, 10th, 11th, 12th) at each school.\n",
    "\n"
   ]
  },
  {
   "cell_type": "code",
   "execution_count": 93,
   "metadata": {},
   "outputs": [
    {
     "data": {
      "text/plain": [
       "school_name\n",
       "Bailey High School       77.083676\n",
       "Cabrera High School      83.094697\n",
       "Figueroa High School     76.403037\n",
       "Ford High School         77.361345\n",
       "Griffin High School      82.044010\n",
       "Hernandez High School    77.438495\n",
       "Holden High School       83.787402\n",
       "Huang High School        77.027251\n",
       "Johnson High School      77.187857\n",
       "Pena High School         83.625455\n",
       "Rodriguez High School    76.859966\n",
       "Shelton High School      83.420755\n",
       "Thomas High School       83.590022\n",
       "Wilson High School       83.085578\n",
       "Wright High School       83.264706\n",
       "Name: math_score, dtype: float64"
      ]
     },
     "execution_count": 93,
     "metadata": {},
     "output_type": "execute_result"
    }
   ],
   "source": [
    "# Find Average Math Scores for each grade level at each school \n",
    "# Use .loc to find grade, use .groupby to group by each school, use .mean to find the Average Math Score\n",
    "math_9th = merged_data.loc[merged_data[\"grade\"] == \"9th\"].groupby(\"school_name\")[\"math_score\"].mean()\n",
    "math_9th"
   ]
  },
  {
   "cell_type": "code",
   "execution_count": 94,
   "metadata": {},
   "outputs": [],
   "source": [
    "# Repeat above for each grade \n",
    "math_10th = merged_data.loc[merged_data[\"grade\"] == \"10th\"].groupby(\"school_name\")[\"math_score\"].mean()\n",
    "math_11th = merged_data.loc[merged_data[\"grade\"] == \"11th\"].groupby(\"school_name\")[\"math_score\"].mean()\n",
    "math_12th = merged_data.loc[merged_data[\"grade\"] == \"12th\"].groupby(\"school_name\")[\"math_score\"].mean()"
   ]
  },
  {
   "cell_type": "code",
   "execution_count": 95,
   "metadata": {},
   "outputs": [
    {
     "data": {
      "text/html": [
       "<style  type=\"text/css\" >\n",
       "</style><table id=\"T_cf83c5e6_dcba_11e9_937a_38c986326522\" ><thead>    <tr>        <th class=\"blank level0\" ></th>        <th class=\"col_heading level0 col0\" >9th Grade</th>        <th class=\"col_heading level0 col1\" >10th Grade</th>        <th class=\"col_heading level0 col2\" >11th Grade</th>        <th class=\"col_heading level0 col3\" >12th Grade</th>    </tr>    <tr>        <th class=\"index_name level0\" >school_name</th>        <th class=\"blank\" ></th>        <th class=\"blank\" ></th>        <th class=\"blank\" ></th>        <th class=\"blank\" ></th>    </tr></thead><tbody>\n",
       "                <tr>\n",
       "                        <th id=\"T_cf83c5e6_dcba_11e9_937a_38c986326522level0_row0\" class=\"row_heading level0 row0\" >Bailey High School</th>\n",
       "                        <td id=\"T_cf83c5e6_dcba_11e9_937a_38c986326522row0_col0\" class=\"data row0 col0\" >77.08</td>\n",
       "                        <td id=\"T_cf83c5e6_dcba_11e9_937a_38c986326522row0_col1\" class=\"data row0 col1\" >77.00</td>\n",
       "                        <td id=\"T_cf83c5e6_dcba_11e9_937a_38c986326522row0_col2\" class=\"data row0 col2\" >77.52</td>\n",
       "                        <td id=\"T_cf83c5e6_dcba_11e9_937a_38c986326522row0_col3\" class=\"data row0 col3\" >76.49</td>\n",
       "            </tr>\n",
       "            <tr>\n",
       "                        <th id=\"T_cf83c5e6_dcba_11e9_937a_38c986326522level0_row1\" class=\"row_heading level0 row1\" >Cabrera High School</th>\n",
       "                        <td id=\"T_cf83c5e6_dcba_11e9_937a_38c986326522row1_col0\" class=\"data row1 col0\" >83.09</td>\n",
       "                        <td id=\"T_cf83c5e6_dcba_11e9_937a_38c986326522row1_col1\" class=\"data row1 col1\" >83.15</td>\n",
       "                        <td id=\"T_cf83c5e6_dcba_11e9_937a_38c986326522row1_col2\" class=\"data row1 col2\" >82.77</td>\n",
       "                        <td id=\"T_cf83c5e6_dcba_11e9_937a_38c986326522row1_col3\" class=\"data row1 col3\" >83.28</td>\n",
       "            </tr>\n",
       "            <tr>\n",
       "                        <th id=\"T_cf83c5e6_dcba_11e9_937a_38c986326522level0_row2\" class=\"row_heading level0 row2\" >Figueroa High School</th>\n",
       "                        <td id=\"T_cf83c5e6_dcba_11e9_937a_38c986326522row2_col0\" class=\"data row2 col0\" >76.40</td>\n",
       "                        <td id=\"T_cf83c5e6_dcba_11e9_937a_38c986326522row2_col1\" class=\"data row2 col1\" >76.54</td>\n",
       "                        <td id=\"T_cf83c5e6_dcba_11e9_937a_38c986326522row2_col2\" class=\"data row2 col2\" >76.88</td>\n",
       "                        <td id=\"T_cf83c5e6_dcba_11e9_937a_38c986326522row2_col3\" class=\"data row2 col3\" >77.15</td>\n",
       "            </tr>\n",
       "            <tr>\n",
       "                        <th id=\"T_cf83c5e6_dcba_11e9_937a_38c986326522level0_row3\" class=\"row_heading level0 row3\" >Ford High School</th>\n",
       "                        <td id=\"T_cf83c5e6_dcba_11e9_937a_38c986326522row3_col0\" class=\"data row3 col0\" >77.36</td>\n",
       "                        <td id=\"T_cf83c5e6_dcba_11e9_937a_38c986326522row3_col1\" class=\"data row3 col1\" >77.67</td>\n",
       "                        <td id=\"T_cf83c5e6_dcba_11e9_937a_38c986326522row3_col2\" class=\"data row3 col2\" >76.92</td>\n",
       "                        <td id=\"T_cf83c5e6_dcba_11e9_937a_38c986326522row3_col3\" class=\"data row3 col3\" >76.18</td>\n",
       "            </tr>\n",
       "            <tr>\n",
       "                        <th id=\"T_cf83c5e6_dcba_11e9_937a_38c986326522level0_row4\" class=\"row_heading level0 row4\" >Griffin High School</th>\n",
       "                        <td id=\"T_cf83c5e6_dcba_11e9_937a_38c986326522row4_col0\" class=\"data row4 col0\" >82.04</td>\n",
       "                        <td id=\"T_cf83c5e6_dcba_11e9_937a_38c986326522row4_col1\" class=\"data row4 col1\" >84.23</td>\n",
       "                        <td id=\"T_cf83c5e6_dcba_11e9_937a_38c986326522row4_col2\" class=\"data row4 col2\" >83.84</td>\n",
       "                        <td id=\"T_cf83c5e6_dcba_11e9_937a_38c986326522row4_col3\" class=\"data row4 col3\" >83.36</td>\n",
       "            </tr>\n",
       "            <tr>\n",
       "                        <th id=\"T_cf83c5e6_dcba_11e9_937a_38c986326522level0_row5\" class=\"row_heading level0 row5\" >Hernandez High School</th>\n",
       "                        <td id=\"T_cf83c5e6_dcba_11e9_937a_38c986326522row5_col0\" class=\"data row5 col0\" >77.44</td>\n",
       "                        <td id=\"T_cf83c5e6_dcba_11e9_937a_38c986326522row5_col1\" class=\"data row5 col1\" >77.34</td>\n",
       "                        <td id=\"T_cf83c5e6_dcba_11e9_937a_38c986326522row5_col2\" class=\"data row5 col2\" >77.14</td>\n",
       "                        <td id=\"T_cf83c5e6_dcba_11e9_937a_38c986326522row5_col3\" class=\"data row5 col3\" >77.19</td>\n",
       "            </tr>\n",
       "            <tr>\n",
       "                        <th id=\"T_cf83c5e6_dcba_11e9_937a_38c986326522level0_row6\" class=\"row_heading level0 row6\" >Holden High School</th>\n",
       "                        <td id=\"T_cf83c5e6_dcba_11e9_937a_38c986326522row6_col0\" class=\"data row6 col0\" >83.79</td>\n",
       "                        <td id=\"T_cf83c5e6_dcba_11e9_937a_38c986326522row6_col1\" class=\"data row6 col1\" >83.43</td>\n",
       "                        <td id=\"T_cf83c5e6_dcba_11e9_937a_38c986326522row6_col2\" class=\"data row6 col2\" >85.00</td>\n",
       "                        <td id=\"T_cf83c5e6_dcba_11e9_937a_38c986326522row6_col3\" class=\"data row6 col3\" >82.86</td>\n",
       "            </tr>\n",
       "            <tr>\n",
       "                        <th id=\"T_cf83c5e6_dcba_11e9_937a_38c986326522level0_row7\" class=\"row_heading level0 row7\" >Huang High School</th>\n",
       "                        <td id=\"T_cf83c5e6_dcba_11e9_937a_38c986326522row7_col0\" class=\"data row7 col0\" >77.03</td>\n",
       "                        <td id=\"T_cf83c5e6_dcba_11e9_937a_38c986326522row7_col1\" class=\"data row7 col1\" >75.91</td>\n",
       "                        <td id=\"T_cf83c5e6_dcba_11e9_937a_38c986326522row7_col2\" class=\"data row7 col2\" >76.45</td>\n",
       "                        <td id=\"T_cf83c5e6_dcba_11e9_937a_38c986326522row7_col3\" class=\"data row7 col3\" >77.23</td>\n",
       "            </tr>\n",
       "            <tr>\n",
       "                        <th id=\"T_cf83c5e6_dcba_11e9_937a_38c986326522level0_row8\" class=\"row_heading level0 row8\" >Johnson High School</th>\n",
       "                        <td id=\"T_cf83c5e6_dcba_11e9_937a_38c986326522row8_col0\" class=\"data row8 col0\" >77.19</td>\n",
       "                        <td id=\"T_cf83c5e6_dcba_11e9_937a_38c986326522row8_col1\" class=\"data row8 col1\" >76.69</td>\n",
       "                        <td id=\"T_cf83c5e6_dcba_11e9_937a_38c986326522row8_col2\" class=\"data row8 col2\" >77.49</td>\n",
       "                        <td id=\"T_cf83c5e6_dcba_11e9_937a_38c986326522row8_col3\" class=\"data row8 col3\" >76.86</td>\n",
       "            </tr>\n",
       "            <tr>\n",
       "                        <th id=\"T_cf83c5e6_dcba_11e9_937a_38c986326522level0_row9\" class=\"row_heading level0 row9\" >Pena High School</th>\n",
       "                        <td id=\"T_cf83c5e6_dcba_11e9_937a_38c986326522row9_col0\" class=\"data row9 col0\" >83.63</td>\n",
       "                        <td id=\"T_cf83c5e6_dcba_11e9_937a_38c986326522row9_col1\" class=\"data row9 col1\" >83.37</td>\n",
       "                        <td id=\"T_cf83c5e6_dcba_11e9_937a_38c986326522row9_col2\" class=\"data row9 col2\" >84.33</td>\n",
       "                        <td id=\"T_cf83c5e6_dcba_11e9_937a_38c986326522row9_col3\" class=\"data row9 col3\" >84.12</td>\n",
       "            </tr>\n",
       "            <tr>\n",
       "                        <th id=\"T_cf83c5e6_dcba_11e9_937a_38c986326522level0_row10\" class=\"row_heading level0 row10\" >Rodriguez High School</th>\n",
       "                        <td id=\"T_cf83c5e6_dcba_11e9_937a_38c986326522row10_col0\" class=\"data row10 col0\" >76.86</td>\n",
       "                        <td id=\"T_cf83c5e6_dcba_11e9_937a_38c986326522row10_col1\" class=\"data row10 col1\" >76.61</td>\n",
       "                        <td id=\"T_cf83c5e6_dcba_11e9_937a_38c986326522row10_col2\" class=\"data row10 col2\" >76.40</td>\n",
       "                        <td id=\"T_cf83c5e6_dcba_11e9_937a_38c986326522row10_col3\" class=\"data row10 col3\" >77.69</td>\n",
       "            </tr>\n",
       "            <tr>\n",
       "                        <th id=\"T_cf83c5e6_dcba_11e9_937a_38c986326522level0_row11\" class=\"row_heading level0 row11\" >Shelton High School</th>\n",
       "                        <td id=\"T_cf83c5e6_dcba_11e9_937a_38c986326522row11_col0\" class=\"data row11 col0\" >83.42</td>\n",
       "                        <td id=\"T_cf83c5e6_dcba_11e9_937a_38c986326522row11_col1\" class=\"data row11 col1\" >82.92</td>\n",
       "                        <td id=\"T_cf83c5e6_dcba_11e9_937a_38c986326522row11_col2\" class=\"data row11 col2\" >83.38</td>\n",
       "                        <td id=\"T_cf83c5e6_dcba_11e9_937a_38c986326522row11_col3\" class=\"data row11 col3\" >83.78</td>\n",
       "            </tr>\n",
       "            <tr>\n",
       "                        <th id=\"T_cf83c5e6_dcba_11e9_937a_38c986326522level0_row12\" class=\"row_heading level0 row12\" >Thomas High School</th>\n",
       "                        <td id=\"T_cf83c5e6_dcba_11e9_937a_38c986326522row12_col0\" class=\"data row12 col0\" >83.59</td>\n",
       "                        <td id=\"T_cf83c5e6_dcba_11e9_937a_38c986326522row12_col1\" class=\"data row12 col1\" >83.09</td>\n",
       "                        <td id=\"T_cf83c5e6_dcba_11e9_937a_38c986326522row12_col2\" class=\"data row12 col2\" >83.50</td>\n",
       "                        <td id=\"T_cf83c5e6_dcba_11e9_937a_38c986326522row12_col3\" class=\"data row12 col3\" >83.50</td>\n",
       "            </tr>\n",
       "            <tr>\n",
       "                        <th id=\"T_cf83c5e6_dcba_11e9_937a_38c986326522level0_row13\" class=\"row_heading level0 row13\" >Wilson High School</th>\n",
       "                        <td id=\"T_cf83c5e6_dcba_11e9_937a_38c986326522row13_col0\" class=\"data row13 col0\" >83.09</td>\n",
       "                        <td id=\"T_cf83c5e6_dcba_11e9_937a_38c986326522row13_col1\" class=\"data row13 col1\" >83.72</td>\n",
       "                        <td id=\"T_cf83c5e6_dcba_11e9_937a_38c986326522row13_col2\" class=\"data row13 col2\" >83.20</td>\n",
       "                        <td id=\"T_cf83c5e6_dcba_11e9_937a_38c986326522row13_col3\" class=\"data row13 col3\" >83.04</td>\n",
       "            </tr>\n",
       "            <tr>\n",
       "                        <th id=\"T_cf83c5e6_dcba_11e9_937a_38c986326522level0_row14\" class=\"row_heading level0 row14\" >Wright High School</th>\n",
       "                        <td id=\"T_cf83c5e6_dcba_11e9_937a_38c986326522row14_col0\" class=\"data row14 col0\" >83.26</td>\n",
       "                        <td id=\"T_cf83c5e6_dcba_11e9_937a_38c986326522row14_col1\" class=\"data row14 col1\" >84.01</td>\n",
       "                        <td id=\"T_cf83c5e6_dcba_11e9_937a_38c986326522row14_col2\" class=\"data row14 col2\" >83.84</td>\n",
       "                        <td id=\"T_cf83c5e6_dcba_11e9_937a_38c986326522row14_col3\" class=\"data row14 col3\" >83.64</td>\n",
       "            </tr>\n",
       "    </tbody></table>"
      ],
      "text/plain": [
       "<pandas.io.formats.style.Styler at 0x11487e6d0>"
      ]
     },
     "execution_count": 95,
     "metadata": {},
     "output_type": "execute_result"
    }
   ],
   "source": [
    "# Create Summary DataFrame using above calculations to create a table \n",
    "\n",
    "math_scores_by_grade = pd.DataFrame ({\"9th Grade\": math_9th,\n",
    "                           \"10th Grade\": math_10th,\n",
    "                           \"11th Grade\": math_11th,\n",
    "                            \"12th Grade\": math_12th})\n",
    "\n",
    "# Format Results to limit decimal places \n",
    "math_scores_by_grade = math_scores_by_grade.style.format({\n",
    "                           \"9th Grade\": '{:,.2f}'.format,\n",
    "                           \"10th Grade\":'{:,.2f}'.format,\n",
    "                           \"11th Grade\": '{:,.2f}'.format,\n",
    "                           \"12th Grade\": '{:,.2f}'.format,})\n",
    "   \n",
    "math_scores_by_grade"
   ]
  },
  {
   "cell_type": "markdown",
   "metadata": {},
   "source": [
    "### Reading Scores by Grade\n",
    "\n",
    "* Create a table that lists the average Reading Score for students of each grade level (9th, 10th, 11th, 12th) at each school.\n"
   ]
  },
  {
   "cell_type": "code",
   "execution_count": 96,
   "metadata": {},
   "outputs": [],
   "source": [
    "# Use .loc to find grade, use .groupby to group by each school, use .mean to find the Average Reading Score\n",
    "# Repeat for each grade \n",
    "\n",
    "reading_9th = merged_data.loc[merged_data[\"grade\"] == \"9th\"].groupby(\"school_name\")[\"reading_score\"].mean()\n",
    "\n",
    "reading_10th = merged_data.loc[merged_data[\"grade\"] == \"10th\"].groupby(\"school_name\")[\"reading_score\"].mean()\n",
    "\n",
    "reading_11th = merged_data.loc[merged_data[\"grade\"] == \"11th\"].groupby(\"school_name\")[\"reading_score\"].mean()\n",
    "\n",
    "reading_12th = merged_data.loc[merged_data[\"grade\"] == \"12th\"].groupby(\"school_name\")[\"reading_score\"].mean()"
   ]
  },
  {
   "cell_type": "code",
   "execution_count": 97,
   "metadata": {},
   "outputs": [
    {
     "data": {
      "text/html": [
       "<style  type=\"text/css\" >\n",
       "</style><table id=\"T_d43a5e6a_dcba_11e9_937a_38c986326522\" ><thead>    <tr>        <th class=\"blank level0\" ></th>        <th class=\"col_heading level0 col0\" >9th Grade</th>        <th class=\"col_heading level0 col1\" >10th Grade</th>        <th class=\"col_heading level0 col2\" >11th Grade</th>        <th class=\"col_heading level0 col3\" >12th Grade</th>    </tr>    <tr>        <th class=\"index_name level0\" >school_name</th>        <th class=\"blank\" ></th>        <th class=\"blank\" ></th>        <th class=\"blank\" ></th>        <th class=\"blank\" ></th>    </tr></thead><tbody>\n",
       "                <tr>\n",
       "                        <th id=\"T_d43a5e6a_dcba_11e9_937a_38c986326522level0_row0\" class=\"row_heading level0 row0\" >Bailey High School</th>\n",
       "                        <td id=\"T_d43a5e6a_dcba_11e9_937a_38c986326522row0_col0\" class=\"data row0 col0\" >81.30</td>\n",
       "                        <td id=\"T_d43a5e6a_dcba_11e9_937a_38c986326522row0_col1\" class=\"data row0 col1\" >80.91</td>\n",
       "                        <td id=\"T_d43a5e6a_dcba_11e9_937a_38c986326522row0_col2\" class=\"data row0 col2\" >80.95</td>\n",
       "                        <td id=\"T_d43a5e6a_dcba_11e9_937a_38c986326522row0_col3\" class=\"data row0 col3\" >80.91</td>\n",
       "            </tr>\n",
       "            <tr>\n",
       "                        <th id=\"T_d43a5e6a_dcba_11e9_937a_38c986326522level0_row1\" class=\"row_heading level0 row1\" >Cabrera High School</th>\n",
       "                        <td id=\"T_d43a5e6a_dcba_11e9_937a_38c986326522row1_col0\" class=\"data row1 col0\" >83.68</td>\n",
       "                        <td id=\"T_d43a5e6a_dcba_11e9_937a_38c986326522row1_col1\" class=\"data row1 col1\" >84.25</td>\n",
       "                        <td id=\"T_d43a5e6a_dcba_11e9_937a_38c986326522row1_col2\" class=\"data row1 col2\" >83.79</td>\n",
       "                        <td id=\"T_d43a5e6a_dcba_11e9_937a_38c986326522row1_col3\" class=\"data row1 col3\" >84.29</td>\n",
       "            </tr>\n",
       "            <tr>\n",
       "                        <th id=\"T_d43a5e6a_dcba_11e9_937a_38c986326522level0_row2\" class=\"row_heading level0 row2\" >Figueroa High School</th>\n",
       "                        <td id=\"T_d43a5e6a_dcba_11e9_937a_38c986326522row2_col0\" class=\"data row2 col0\" >81.20</td>\n",
       "                        <td id=\"T_d43a5e6a_dcba_11e9_937a_38c986326522row2_col1\" class=\"data row2 col1\" >81.41</td>\n",
       "                        <td id=\"T_d43a5e6a_dcba_11e9_937a_38c986326522row2_col2\" class=\"data row2 col2\" >80.64</td>\n",
       "                        <td id=\"T_d43a5e6a_dcba_11e9_937a_38c986326522row2_col3\" class=\"data row2 col3\" >81.38</td>\n",
       "            </tr>\n",
       "            <tr>\n",
       "                        <th id=\"T_d43a5e6a_dcba_11e9_937a_38c986326522level0_row3\" class=\"row_heading level0 row3\" >Ford High School</th>\n",
       "                        <td id=\"T_d43a5e6a_dcba_11e9_937a_38c986326522row3_col0\" class=\"data row3 col0\" >80.63</td>\n",
       "                        <td id=\"T_d43a5e6a_dcba_11e9_937a_38c986326522row3_col1\" class=\"data row3 col1\" >81.26</td>\n",
       "                        <td id=\"T_d43a5e6a_dcba_11e9_937a_38c986326522row3_col2\" class=\"data row3 col2\" >80.40</td>\n",
       "                        <td id=\"T_d43a5e6a_dcba_11e9_937a_38c986326522row3_col3\" class=\"data row3 col3\" >80.66</td>\n",
       "            </tr>\n",
       "            <tr>\n",
       "                        <th id=\"T_d43a5e6a_dcba_11e9_937a_38c986326522level0_row4\" class=\"row_heading level0 row4\" >Griffin High School</th>\n",
       "                        <td id=\"T_d43a5e6a_dcba_11e9_937a_38c986326522row4_col0\" class=\"data row4 col0\" >83.37</td>\n",
       "                        <td id=\"T_d43a5e6a_dcba_11e9_937a_38c986326522row4_col1\" class=\"data row4 col1\" >83.71</td>\n",
       "                        <td id=\"T_d43a5e6a_dcba_11e9_937a_38c986326522row4_col2\" class=\"data row4 col2\" >84.29</td>\n",
       "                        <td id=\"T_d43a5e6a_dcba_11e9_937a_38c986326522row4_col3\" class=\"data row4 col3\" >84.01</td>\n",
       "            </tr>\n",
       "            <tr>\n",
       "                        <th id=\"T_d43a5e6a_dcba_11e9_937a_38c986326522level0_row5\" class=\"row_heading level0 row5\" >Hernandez High School</th>\n",
       "                        <td id=\"T_d43a5e6a_dcba_11e9_937a_38c986326522row5_col0\" class=\"data row5 col0\" >80.87</td>\n",
       "                        <td id=\"T_d43a5e6a_dcba_11e9_937a_38c986326522row5_col1\" class=\"data row5 col1\" >80.66</td>\n",
       "                        <td id=\"T_d43a5e6a_dcba_11e9_937a_38c986326522row5_col2\" class=\"data row5 col2\" >81.40</td>\n",
       "                        <td id=\"T_d43a5e6a_dcba_11e9_937a_38c986326522row5_col3\" class=\"data row5 col3\" >80.86</td>\n",
       "            </tr>\n",
       "            <tr>\n",
       "                        <th id=\"T_d43a5e6a_dcba_11e9_937a_38c986326522level0_row6\" class=\"row_heading level0 row6\" >Holden High School</th>\n",
       "                        <td id=\"T_d43a5e6a_dcba_11e9_937a_38c986326522row6_col0\" class=\"data row6 col0\" >83.68</td>\n",
       "                        <td id=\"T_d43a5e6a_dcba_11e9_937a_38c986326522row6_col1\" class=\"data row6 col1\" >83.32</td>\n",
       "                        <td id=\"T_d43a5e6a_dcba_11e9_937a_38c986326522row6_col2\" class=\"data row6 col2\" >83.82</td>\n",
       "                        <td id=\"T_d43a5e6a_dcba_11e9_937a_38c986326522row6_col3\" class=\"data row6 col3\" >84.70</td>\n",
       "            </tr>\n",
       "            <tr>\n",
       "                        <th id=\"T_d43a5e6a_dcba_11e9_937a_38c986326522level0_row7\" class=\"row_heading level0 row7\" >Huang High School</th>\n",
       "                        <td id=\"T_d43a5e6a_dcba_11e9_937a_38c986326522row7_col0\" class=\"data row7 col0\" >81.29</td>\n",
       "                        <td id=\"T_d43a5e6a_dcba_11e9_937a_38c986326522row7_col1\" class=\"data row7 col1\" >81.51</td>\n",
       "                        <td id=\"T_d43a5e6a_dcba_11e9_937a_38c986326522row7_col2\" class=\"data row7 col2\" >81.42</td>\n",
       "                        <td id=\"T_d43a5e6a_dcba_11e9_937a_38c986326522row7_col3\" class=\"data row7 col3\" >80.31</td>\n",
       "            </tr>\n",
       "            <tr>\n",
       "                        <th id=\"T_d43a5e6a_dcba_11e9_937a_38c986326522level0_row8\" class=\"row_heading level0 row8\" >Johnson High School</th>\n",
       "                        <td id=\"T_d43a5e6a_dcba_11e9_937a_38c986326522row8_col0\" class=\"data row8 col0\" >81.26</td>\n",
       "                        <td id=\"T_d43a5e6a_dcba_11e9_937a_38c986326522row8_col1\" class=\"data row8 col1\" >80.77</td>\n",
       "                        <td id=\"T_d43a5e6a_dcba_11e9_937a_38c986326522row8_col2\" class=\"data row8 col2\" >80.62</td>\n",
       "                        <td id=\"T_d43a5e6a_dcba_11e9_937a_38c986326522row8_col3\" class=\"data row8 col3\" >81.23</td>\n",
       "            </tr>\n",
       "            <tr>\n",
       "                        <th id=\"T_d43a5e6a_dcba_11e9_937a_38c986326522level0_row9\" class=\"row_heading level0 row9\" >Pena High School</th>\n",
       "                        <td id=\"T_d43a5e6a_dcba_11e9_937a_38c986326522row9_col0\" class=\"data row9 col0\" >83.81</td>\n",
       "                        <td id=\"T_d43a5e6a_dcba_11e9_937a_38c986326522row9_col1\" class=\"data row9 col1\" >83.61</td>\n",
       "                        <td id=\"T_d43a5e6a_dcba_11e9_937a_38c986326522row9_col2\" class=\"data row9 col2\" >84.34</td>\n",
       "                        <td id=\"T_d43a5e6a_dcba_11e9_937a_38c986326522row9_col3\" class=\"data row9 col3\" >84.59</td>\n",
       "            </tr>\n",
       "            <tr>\n",
       "                        <th id=\"T_d43a5e6a_dcba_11e9_937a_38c986326522level0_row10\" class=\"row_heading level0 row10\" >Rodriguez High School</th>\n",
       "                        <td id=\"T_d43a5e6a_dcba_11e9_937a_38c986326522row10_col0\" class=\"data row10 col0\" >80.99</td>\n",
       "                        <td id=\"T_d43a5e6a_dcba_11e9_937a_38c986326522row10_col1\" class=\"data row10 col1\" >80.63</td>\n",
       "                        <td id=\"T_d43a5e6a_dcba_11e9_937a_38c986326522row10_col2\" class=\"data row10 col2\" >80.86</td>\n",
       "                        <td id=\"T_d43a5e6a_dcba_11e9_937a_38c986326522row10_col3\" class=\"data row10 col3\" >80.38</td>\n",
       "            </tr>\n",
       "            <tr>\n",
       "                        <th id=\"T_d43a5e6a_dcba_11e9_937a_38c986326522level0_row11\" class=\"row_heading level0 row11\" >Shelton High School</th>\n",
       "                        <td id=\"T_d43a5e6a_dcba_11e9_937a_38c986326522row11_col0\" class=\"data row11 col0\" >84.12</td>\n",
       "                        <td id=\"T_d43a5e6a_dcba_11e9_937a_38c986326522row11_col1\" class=\"data row11 col1\" >83.44</td>\n",
       "                        <td id=\"T_d43a5e6a_dcba_11e9_937a_38c986326522row11_col2\" class=\"data row11 col2\" >84.37</td>\n",
       "                        <td id=\"T_d43a5e6a_dcba_11e9_937a_38c986326522row11_col3\" class=\"data row11 col3\" >82.78</td>\n",
       "            </tr>\n",
       "            <tr>\n",
       "                        <th id=\"T_d43a5e6a_dcba_11e9_937a_38c986326522level0_row12\" class=\"row_heading level0 row12\" >Thomas High School</th>\n",
       "                        <td id=\"T_d43a5e6a_dcba_11e9_937a_38c986326522row12_col0\" class=\"data row12 col0\" >83.73</td>\n",
       "                        <td id=\"T_d43a5e6a_dcba_11e9_937a_38c986326522row12_col1\" class=\"data row12 col1\" >84.25</td>\n",
       "                        <td id=\"T_d43a5e6a_dcba_11e9_937a_38c986326522row12_col2\" class=\"data row12 col2\" >83.59</td>\n",
       "                        <td id=\"T_d43a5e6a_dcba_11e9_937a_38c986326522row12_col3\" class=\"data row12 col3\" >83.83</td>\n",
       "            </tr>\n",
       "            <tr>\n",
       "                        <th id=\"T_d43a5e6a_dcba_11e9_937a_38c986326522level0_row13\" class=\"row_heading level0 row13\" >Wilson High School</th>\n",
       "                        <td id=\"T_d43a5e6a_dcba_11e9_937a_38c986326522row13_col0\" class=\"data row13 col0\" >83.94</td>\n",
       "                        <td id=\"T_d43a5e6a_dcba_11e9_937a_38c986326522row13_col1\" class=\"data row13 col1\" >84.02</td>\n",
       "                        <td id=\"T_d43a5e6a_dcba_11e9_937a_38c986326522row13_col2\" class=\"data row13 col2\" >83.76</td>\n",
       "                        <td id=\"T_d43a5e6a_dcba_11e9_937a_38c986326522row13_col3\" class=\"data row13 col3\" >84.32</td>\n",
       "            </tr>\n",
       "            <tr>\n",
       "                        <th id=\"T_d43a5e6a_dcba_11e9_937a_38c986326522level0_row14\" class=\"row_heading level0 row14\" >Wright High School</th>\n",
       "                        <td id=\"T_d43a5e6a_dcba_11e9_937a_38c986326522row14_col0\" class=\"data row14 col0\" >83.83</td>\n",
       "                        <td id=\"T_d43a5e6a_dcba_11e9_937a_38c986326522row14_col1\" class=\"data row14 col1\" >83.81</td>\n",
       "                        <td id=\"T_d43a5e6a_dcba_11e9_937a_38c986326522row14_col2\" class=\"data row14 col2\" >84.16</td>\n",
       "                        <td id=\"T_d43a5e6a_dcba_11e9_937a_38c986326522row14_col3\" class=\"data row14 col3\" >84.07</td>\n",
       "            </tr>\n",
       "    </tbody></table>"
      ],
      "text/plain": [
       "<pandas.io.formats.style.Styler at 0x113e06e50>"
      ]
     },
     "execution_count": 97,
     "metadata": {},
     "output_type": "execute_result"
    }
   ],
   "source": [
    "# Create Summary DataFrame using above calculations to create a table \n",
    "\n",
    "reading_scores_by_grade = pd.DataFrame ({\"9th Grade\": reading_9th,\n",
    "                           \"10th Grade\": reading_10th,\n",
    "                           \"11th Grade\": reading_11th,\n",
    "                            \"12th Grade\": reading_12th})\n",
    "\n",
    "# Format Results to limit decimal places \n",
    "reading_scores_by_grade = reading_scores_by_grade.style.format({\n",
    "                           \"9th Grade\": '{:,.2f}'.format,\n",
    "                           \"10th Grade\":'{:,.2f}'.format,\n",
    "                           \"11th Grade\": '{:,.2f}'.format,\n",
    "                           \"12th Grade\": '{:,.2f}'.format,})\n",
    "   \n",
    "reading_scores_by_grade"
   ]
  },
  {
   "cell_type": "markdown",
   "metadata": {},
   "source": [
    "### Scores by School Spending\n",
    "\n",
    "* Create a table that breaks down school performances based on average Spending Ranges (Per Student). Use 4 reasonable bins to group school spending. Include in the table each of the following:\n",
    "  * Average Math Score\n",
    "  * Average Reading Score\n",
    "  * % Passing Math\n",
    "  * % Passing Reading\n",
    "  * Overall Passing Rate (Average of the above two)\n"
   ]
  },
  {
   "cell_type": "code",
   "execution_count": null,
   "metadata": {},
   "outputs": [],
   "source": []
  }
 ],
 "metadata": {
  "kernelspec": {
   "display_name": "Python 3",
   "language": "python",
   "name": "python3"
  },
  "language_info": {
   "codemirror_mode": {
    "name": "ipython",
    "version": 3
   },
   "file_extension": ".py",
   "mimetype": "text/x-python",
   "name": "python",
   "nbconvert_exporter": "python",
   "pygments_lexer": "ipython3",
   "version": "3.7.4"
  }
 },
 "nbformat": 4,
 "nbformat_minor": 2
}
